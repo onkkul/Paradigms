{
 "cells": [
  {
   "cell_type": "code",
   "execution_count": 10,
   "metadata": {},
   "outputs": [
    {
     "data": {
      "text/plain": [
       "'\\n\\n# -*- coding: utf-8 -*-\\n\\nCreated on Mon May 25 17:32:12 2020\\n\\n@author: Onkar\\n\\n@ topic: Recursion\\n\\n'"
      ]
     },
     "execution_count": 10,
     "metadata": {},
     "output_type": "execute_result"
    }
   ],
   "source": [
    "\"\"\"\n",
    "\n",
    "# -*- coding: utf-8 -*-\n",
    "\n",
    "Created on Mon May 25 17:32:12 2020\n",
    "\n",
    "@author: Onkar\n",
    "\n",
    "@ topic: Recursion\n",
    "\n",
    "\"\"\""
   ]
  },
  {
   "cell_type": "code",
   "execution_count": 34,
   "metadata": {},
   "outputs": [],
   "source": [
    "def sumN(number):\n",
    "    if number == 1:\n",
    "        return 1\n",
    "    return number + sumN(number-1)"
   ]
  },
  {
   "cell_type": "code",
   "execution_count": 35,
   "metadata": {},
   "outputs": [],
   "source": [
    "def factorial(number):\n",
    "    if number == 1:\n",
    "        return 1\n",
    "    return number*factorial(number-1)"
   ]
  },
  {
   "cell_type": "code",
   "execution_count": 36,
   "metadata": {},
   "outputs": [
    {
     "data": {
      "text/plain": [
       "55"
      ]
     },
     "execution_count": 36,
     "metadata": {},
     "output_type": "execute_result"
    }
   ],
   "source": [
    "sumN(10)"
   ]
  },
  {
   "cell_type": "code",
   "execution_count": 37,
   "metadata": {},
   "outputs": [
    {
     "data": {
      "text/plain": [
       "3628800"
      ]
     },
     "execution_count": 37,
     "metadata": {},
     "output_type": "execute_result"
    }
   ],
   "source": [
    "factorial(10)"
   ]
  },
  {
   "cell_type": "code",
   "execution_count": 41,
   "metadata": {},
   "outputs": [],
   "source": [
    "def findMax(Array):\n",
    "    if len(Array) == 1:\n",
    "        return Array[0]\n",
    "    return max(Array[0], findMax(Array[1::]))"
   ]
  },
  {
   "cell_type": "code",
   "execution_count": 45,
   "metadata": {},
   "outputs": [
    {
     "data": {
      "text/plain": [
       "99"
      ]
     },
     "execution_count": 45,
     "metadata": {},
     "output_type": "execute_result"
    }
   ],
   "source": [
    "findMax([1,2,99,4,12,6,7,8,-9])"
   ]
  },
  {
   "cell_type": "code",
   "execution_count": 46,
   "metadata": {},
   "outputs": [],
   "source": [
    "def findMin(Array):\n",
    "    if len(Array) == 1:\n",
    "        return Array[0]\n",
    "    return min(Array[0], findMin(Array[1::]))"
   ]
  },
  {
   "cell_type": "code",
   "execution_count": 49,
   "metadata": {},
   "outputs": [
    {
     "data": {
      "text/plain": [
       "-12"
      ]
     },
     "execution_count": 49,
     "metadata": {},
     "output_type": "execute_result"
    }
   ],
   "source": [
    "findMin([1,2,99,4,-12,6,7,8,-9])"
   ]
  },
  {
   "cell_type": "code",
   "execution_count": 63,
   "metadata": {},
   "outputs": [],
   "source": [
    "\"\"\"\n",
    "Find all the unique paths thatwe can take\n",
    "in a n*m matrix from start to finish\n",
    "\"\"\"\n",
    "def findPath(n,m):\n",
    "    if n == 1 or m == 1:\n",
    "        return int(1)\n",
    "    return findPath(n-1,m) + findPath(n,m-1)\n"
   ]
  },
  {
   "cell_type": "code",
   "execution_count": 64,
   "metadata": {},
   "outputs": [
    {
     "data": {
      "text/plain": [
       "4"
      ]
     },
     "execution_count": 64,
     "metadata": {},
     "output_type": "execute_result"
    }
   ],
   "source": [
    "findPath(2,4)"
   ]
  },
  {
   "cell_type": "code",
   "execution_count": 83,
   "metadata": {},
   "outputs": [],
   "source": [
    "\"\"\"\n",
    "write a function to count the number of ways you \n",
    "can partition n objects using parts upto m\n",
    "\n",
    "for eg. how many ways you can group 100(n) people\n",
    "where each group can be of size 6(m) or less\n",
    "\n",
    "\"\"\"\n",
    "\n",
    "def countWays(n, m): \n",
    "    if n == 0:\n",
    "        return 1\n",
    "    if m == 0 or n < 0:\n",
    "        return 0\n",
    "    return countWays(n-m, m) + countWays(n, m-1)\n",
    "    \n",
    "    "
   ]
  },
  {
   "cell_type": "code",
   "execution_count": 84,
   "metadata": {},
   "outputs": [
    {
     "data": {
      "text/plain": [
       "23"
      ]
     },
     "execution_count": 84,
     "metadata": {},
     "output_type": "execute_result"
    }
   ],
   "source": [
    " countWays(9, 5)"
   ]
  },
  {
   "cell_type": "code",
   "execution_count": 104,
   "metadata": {},
   "outputs": [],
   "source": [
    "\"\"\"\n",
    "The Tribonacci sequence Tn is defined as follows: \n",
    "\n",
    "T0 = 0, T1 = 1, T2 = 1, and Tn+3 = Tn + Tn+1 + Tn+2 for n >= 0.\n",
    "\n",
    "Given n, return the value of Tn.\n",
    "\n",
    "Input: n = 4\n",
    "Output: 4\n",
    "Explanation:\n",
    "T_3 = 0 + 1 + 1 = 2\n",
    "T_4 = 1 + 1 + 2 = 4\n",
    "\n",
    "\n",
    "Input: n = 25\n",
    "Output: 1389537\n",
    "\n",
    "\"\"\"\n",
    "class Solution:\n",
    "    def trib(self, n):\n",
    "        if n in self.found.keys():\n",
    "            return self.found[n]\n",
    "        else:\n",
    "            self.found[n] = self.trib(n-1) + self.trib(n-2) + self.trib(n-3) \n",
    "            return self.found[n]\n",
    "    def tribonacci(self, n: int) -> int:\n",
    "        self.found = {0:0,1:1,2:1}\n",
    "        return self.trib(n)"
   ]
  },
  {
   "cell_type": "code",
   "execution_count": 105,
   "metadata": {},
   "outputs": [
    {
     "name": "stdout",
     "output_type": "stream",
     "text": [
      "15902591\n"
     ]
    }
   ],
   "source": [
    "sol = Solution()\n",
    "print(sol.tribonacci(29))"
   ]
  },
  {
   "cell_type": "code",
   "execution_count": null,
   "metadata": {},
   "outputs": [],
   "source": []
  }
 ],
 "metadata": {
  "kernelspec": {
   "display_name": "Python 3",
   "language": "python",
   "name": "python3"
  },
  "language_info": {
   "codemirror_mode": {
    "name": "ipython",
    "version": 3
   },
   "file_extension": ".py",
   "mimetype": "text/x-python",
   "name": "python",
   "nbconvert_exporter": "python",
   "pygments_lexer": "ipython3",
   "version": "3.7.6"
  }
 },
 "nbformat": 4,
 "nbformat_minor": 4
}
