{
 "cells": [
  {
   "cell_type": "code",
   "execution_count": null,
   "metadata": {},
   "outputs": [],
   "source": [
    "\"\"\"\n",
    "\n",
    "# -*- coding: utf-8 -*-\n",
    "\n",
    "Created on Mon May 25 17:32:12 2020\n",
    "\n",
    "@author: Onkar\n",
    "\n",
    "@topic: Recursion\n",
    "\n",
    "\"\"\"\n"
   ]
  },
  {
   "cell_type": "code",
   "execution_count": 42,
   "metadata": {},
   "outputs": [
    {
     "name": "stdout",
     "output_type": "stream",
     "text": [
      "Sum(numbers upto N) =  55\n"
     ]
    }
   ],
   "source": [
    "\n",
    "\"\"\"\n",
    "Find the sum of all integers upto N\n",
    "\n",
    "\"\"\"\n",
    "def sumN(number):\n",
    "    if number == 1:\n",
    "        return 1\n",
    "    return number + sumN(number-1)\n",
    "\n",
    "print(\"Sum(numbers upto N) = \", sumN(10))\n"
   ]
  },
  {
   "cell_type": "code",
   "execution_count": 24,
   "metadata": {},
   "outputs": [
    {
     "data": {
      "text/plain": [
       "9"
      ]
     },
     "execution_count": 24,
     "metadata": {},
     "output_type": "execute_result"
    }
   ],
   "source": [
    "\n",
    "\"\"\"\n",
    "Given a non-negative integer num, repeatedly add all its digits until the result has only one digit.\n",
    "\n",
    "Example:\n",
    "\n",
    "Input: 38\n",
    "Output: 2 \n",
    "Explanation: The process is like: 3 + 8 = 11, 1 + 1 = 2. \n",
    "             Since 2 has only one digit, return it.\n",
    "             \n",
    "\"\"\"\n",
    "def addDigits(num):\n",
    "\n",
    "    num_str = str(num)\n",
    "    if len(num_str) == 1:\n",
    "        return num\n",
    "\n",
    "    summ = 0\n",
    "    for letter in num_str:\n",
    "        summ += int(letter)\n",
    "\n",
    "    return addDigits(summ)\n",
    "\n",
    "addDigits(564381)\n"
   ]
  },
  {
   "cell_type": "code",
   "execution_count": 43,
   "metadata": {},
   "outputs": [
    {
     "name": "stdout",
     "output_type": "stream",
     "text": [
      "factorial(N) =  3628800\n"
     ]
    }
   ],
   "source": [
    "\n",
    "\"\"\"\n",
    "Find factorial of a number\n",
    "\n",
    "\"\"\"\n",
    "def factorial(number):\n",
    "    if number == 1:\n",
    "        return 1\n",
    "    return number*factorial(number-1)\n",
    "\n",
    "print(\"factorial(N) = \", factorial(10))\n"
   ]
  },
  {
   "cell_type": "code",
   "execution_count": 4,
   "metadata": {},
   "outputs": [
    {
     "name": "stdout",
     "output_type": "stream",
     "text": [
      "Max =  99\n",
      "Min =  -12\n"
     ]
    }
   ],
   "source": [
    "\n",
    "\"\"\"\n",
    "Find Min and Max values in an Array\n",
    "\n",
    "\"\"\"\n",
    "def findMax(Array):\n",
    "    if len(Array) == 1:\n",
    "        return Array[0]\n",
    "    return max(Array[0], findMax(Array[1::]))\n",
    "\n",
    "def findMin(Array):\n",
    "    if len(Array) == 1:\n",
    "        return Array[0]\n",
    "    return min(Array[0], findMin(Array[1::]))\n",
    "\n",
    "print(\"Max = \", findMax([1,2,99,4,12,6,7,8,-9]))\n",
    "print(\"Min = \", findMin([1,2,99,4,-12,6,7,8,-9]))\n"
   ]
  },
  {
   "cell_type": "code",
   "execution_count": 28,
   "metadata": {},
   "outputs": [
    {
     "data": {
      "text/plain": [
       "1"
      ]
     },
     "execution_count": 28,
     "metadata": {},
     "output_type": "execute_result"
    }
   ],
   "source": [
    "\"\"\"\n",
    "write a power function pow() to get x^n\n",
    "\n",
    "\"\"\"\n",
    "\n",
    "class power():\n",
    "    def PoW(self, currentVal, base, power):\n",
    "        if base == 1 or power == 0:\n",
    "            return 1\n",
    "        if power == 1:\n",
    "            return currentVal\n",
    "        currentVal = currentVal*base\n",
    "        return self.PoW(currentVal, base, power-1)\n",
    "    \n",
    "    def myPow(self, x: float, n: int) -> float:\n",
    "        \n",
    "        if n < 0:\n",
    "            x = 1/x\n",
    "\n",
    "        return self.PoW(x, x, abs(n))\n",
    "\n",
    "funct = power()\n",
    "funct.myPow(1, 1000)\n"
   ]
  },
  {
   "cell_type": "code",
   "execution_count": 26,
   "metadata": {},
   "outputs": [
    {
     "data": {
      "text/plain": [
       "True"
      ]
     },
     "execution_count": 26,
     "metadata": {},
     "output_type": "execute_result"
    }
   ],
   "source": [
    "\n",
    "\"\"\"\n",
    "Given two numbers 'number' and 'base' \n",
    "check if number is power of the base\n",
    "\"\"\"\n",
    "def power(number, base, currentval):\n",
    "    if currentval == number:\n",
    "        return True\n",
    "    if currentval > number:\n",
    "        return False\n",
    "    return power(number, base, base*currentval)\n",
    "\n",
    "def isPowerofBase(number, base):\n",
    "    return power(number, base, 1)\n",
    "\n",
    "isPowerofBase(number = 27, base = 3)\n"
   ]
  },
  {
   "cell_type": "code",
   "execution_count": 29,
   "metadata": {},
   "outputs": [
    {
     "name": "stdout",
     "output_type": "stream",
     "text": [
      "['r', 'a', 'k', 'n', 'O']\n"
     ]
    }
   ],
   "source": [
    "\n",
    "\"\"\"\n",
    "Find reverse of a given string\n",
    "\n",
    "\"\"\"\n",
    "def recurse(start, end, string):\n",
    "    if start > end:\n",
    "        return\n",
    "    string[start], string[end] = string[end], string[start]\n",
    "    start += 1\n",
    "    end -= 1\n",
    "    recurse(start, end, string)\n",
    "\n",
    "def printReverse(string):\n",
    "    string = list(string)\n",
    "    recurse(0, len(string)-1, string)\n",
    "    return string\n",
    "\n",
    "print(printReverse(\"Onkar\"))\n"
   ]
  },
  {
   "cell_type": "code",
   "execution_count": 20,
   "metadata": {},
   "outputs": [
    {
     "name": "stdout",
     "output_type": "stream",
     "text": [
      "fibonacci value =  377\n"
     ]
    }
   ],
   "source": [
    "\n",
    "\"\"\"\n",
    "Fibonacci Series\n",
    "\n",
    "\"\"\"\n",
    "fib_records = {0:0, 1:1}\n",
    "\n",
    "def fib(number):\n",
    "    if number in fib_records:\n",
    "        return fib_records[number]\n",
    "    return fib(number - 1) + fib(number - 2)\n",
    "\n",
    "fib_value = fib(14)\n",
    "\n",
    "# delete to reduce size\n",
    "del[fib_records]\n",
    "\n",
    "print(\"fibonacci value = \", fib_value)\n"
   ]
  },
  {
   "cell_type": "code",
   "execution_count": 19,
   "metadata": {},
   "outputs": [
    {
     "name": "stdout",
     "output_type": "stream",
     "text": [
      "tribonacci value = 5742568741225\n"
     ]
    }
   ],
   "source": [
    "\n",
    "\"\"\"\n",
    "The Tribonacci sequence Tn is defined as follows: \n",
    "\n",
    "T0 = 0, T1 = 1, T2 = 1, and Tn+3 = Tn + Tn+1 + Tn+2 for n >= 0.\n",
    "\n",
    "Given n, return the value of Tn.\n",
    "\n",
    "Input: n = 4\n",
    "Output: 4\n",
    "Explanation:\n",
    "T_3 = 0 + 1 + 1 = 2\n",
    "T_4 = 1 + 1 + 2 = 4\n",
    "\n",
    "Input: n = 25\n",
    "Output: 1389537\n",
    "\n",
    "\"\"\"\n",
    "\n",
    "trib_records = {0:0,1:1,2:1}\n",
    "def tribonacci(number):\n",
    "    if number in trib_records:\n",
    "        return trib_records[number]\n",
    "    else:\n",
    "        trib_records[number] = tribonacci(number-1) + tribonacci(number-2) + tribonacci(number-3) \n",
    "        return trib_records[number]\n",
    "\n",
    "trib_value = tribonacci(50)\n",
    "\n",
    "# delete to reduce size\n",
    "del[trib_records]\n",
    "\n",
    "print(f\"tribonacci value = {trib_value}\")\n"
   ]
  },
  {
   "cell_type": "code",
   "execution_count": 22,
   "metadata": {},
   "outputs": [
    {
     "data": {
      "text/plain": [
       "[1, 5, 10, 10, 5, 1]"
      ]
     },
     "execution_count": 22,
     "metadata": {},
     "output_type": "execute_result"
    }
   ],
   "source": [
    "\n",
    "\"\"\"\n",
    "PASCAL'S TRIANGLE\n",
    "\n",
    "A pascals triangle is a pyramid in which the value\n",
    "at a location is sum of two values directly above it\n",
    "\n",
    "               1                    <--- row 0\n",
    "            1     1                 <--- row 1\n",
    "         1     2     1              <--- row 2\n",
    "      1     3      3      1         <--- row 3\n",
    "   1     4      6      4     1      <--- row 4\n",
    "1     5     10     10     5     1   <--- row 5\n",
    "\n",
    "Given a row number, return the members of that row\n",
    "\"\"\"\n",
    "class pascalsTriangle:\n",
    "    \n",
    "    def initRecords(self, rowIndex):\n",
    "        self.records = {}\n",
    "        for row in range(rowIndex+1):\n",
    "            line = []\n",
    "            for column in range(row+1):\n",
    "                line.append(0)\n",
    "            self.records[row] = line\n",
    "        self.records[0] = [1]\n",
    "        del[line]\n",
    "\n",
    "    def getTriangle(self, row, column):\n",
    "        if row == column or column == 1:\n",
    "            self.records[row-1][column -1] = 1\n",
    "            return self.records[row-1][column -1]\n",
    "    \n",
    "        if self.records[row-1][column-1] == 0:\n",
    "            self.records[row-1][column-1] = self.getTriangle(row-1, column-1) + self.getTriangle(row-1,column)\n",
    "        \n",
    "        return self.records[row-1][column-1]\n",
    "    \n",
    "    def getRow(self, rowIndex):\n",
    "        self.initRecords(rowIndex)\n",
    "        result = []\n",
    "        for column in range(1, rowIndex+2):\n",
    "            result.append(self.getTriangle(rowIndex+1, column))\n",
    "        return result\n",
    "\n",
    "triangle = pascalsTriangle()\n",
    "\n",
    "triangle.getRow(5)"
   ]
  },
  {
   "cell_type": "code",
   "execution_count": 31,
   "metadata": {},
   "outputs": [
    {
     "name": "stdout",
     "output_type": "stream",
     "text": [
      "Possible Paths:  6\n"
     ]
    }
   ],
   "source": [
    "\n",
    "\"\"\"\n",
    "Find all the unique paths thatwe can take\n",
    "in a n*m matrix from start to finish\n",
    "\"\"\"\n",
    "def findPath(n,m):\n",
    "    if n == 1 or m == 1:\n",
    "        return int(1)\n",
    "    return findPath(n-1,m) + findPath(n,m-1)\n",
    "\n",
    "print(\"Possible Paths: \", findPath(3,3))\n"
   ]
  },
  {
   "cell_type": "code",
   "execution_count": 46,
   "metadata": {},
   "outputs": [
    {
     "name": "stdout",
     "output_type": "stream",
     "text": [
      "Possible Combinations:  3\n"
     ]
    }
   ],
   "source": [
    "\n",
    "\"\"\"\n",
    "write a function to count the number of ways you \n",
    "can partition n objects using parts upto m\n",
    "\n",
    "for eg. how many ways you can group 100(n) people\n",
    "where each group can be of size 6(m) or less\n",
    "\n",
    "\"\"\"\n",
    "\n",
    "def countWays(n, m): \n",
    "    if n == 0:\n",
    "        return 1\n",
    "    if m == 0 or n < 0:\n",
    "        return 0\n",
    "    return countWays(n-m, m) + countWays(n, m-1)\n",
    "    \n",
    "print(\"Possible Combinations: \", countWays(3,3))\n"
   ]
  },
  {
   "cell_type": "code",
   "execution_count": 45,
   "metadata": {},
   "outputs": [
    {
     "name": "stdout",
     "output_type": "stream",
     "text": [
      "distinct ways to top =  3\n"
     ]
    }
   ],
   "source": [
    "\n",
    "\n",
    "\"\"\"\n",
    "You are climbing a stair case. It takes n steps to reach to the top.\n",
    "\n",
    "Each time you can either climb upto m steps.\n",
    "In how many distinct ways can you climb to the top?\n",
    "\n",
    "Note: Given n, m will be positive integer.\n",
    "\n",
    "Example 1:\n",
    "\n",
    "Input: n = 2, m = 2\n",
    "Output: 2\n",
    "Explanation: There are two ways to climb to the top.\n",
    "1. 1 step + 1 step\n",
    "2. 2 steps\n",
    "Example 2:\n",
    "\n",
    "Input: n = 3, m = 2\n",
    "Output: 3\n",
    "Explanation: There are three ways to climb to the top.\n",
    "1. 1 step + 1 step + 1 step\n",
    "2. 1 step + 2 steps\n",
    "3. 2 steps + 1 step\n",
    "\n",
    "\"\"\"\n",
    "\n",
    "def countSteps(n, m, records):\n",
    "    if n in records:\n",
    "        return records[n]\n",
    "\n",
    "    if m == 0 or n < 0:\n",
    "        records[n] = 0\n",
    "        return 0\n",
    "\n",
    "    result = countSteps(n-1, m, records) + countSteps(n-2, m, records)\n",
    "    records[n] = result\n",
    "    return result\n",
    "\n",
    "\n",
    "def climbStairs(n, m):\n",
    "    \n",
    "    records = {0:1}\n",
    "    \n",
    "    return countSteps(n, m, records)\n",
    "\n",
    "\n",
    "print(\"distinct ways to top = \", climbStairs(3,2))\n"
   ]
  },
  {
   "cell_type": "code",
   "execution_count": null,
   "metadata": {},
   "outputs": [],
   "source": [
    "\n",
    "\"\"\"\n",
    "Problems based on linked lists\n",
    "\"\"\"\n",
    "\n",
    "# Definition for singly-linked list.\n",
    "class ListNode:\n",
    "    def __init__(self, val=0, next=None):\n",
    "        self.val = val\n",
    "        self.next = next\n",
    "        return\n",
    "\n",
    "def createList(InPut):\n",
    "    LinkedList = ListNode(InPut[0])\n",
    "    Head = LinkedList\n",
    "    for element in InPut[1::]:\n",
    "        temp = ListNode(element)\n",
    "        Head.next = temp\n",
    "        Head = temp\n",
    "    return LinkedList\n",
    "\n",
    "def printList(Head):\n",
    "    while Head:\n",
    "        print(Head.val)\n",
    "        Head = Head.next\n",
    "    return\n"
   ]
  },
  {
   "cell_type": "code",
   "execution_count": 40,
   "metadata": {},
   "outputs": [
    {
     "name": "stdout",
     "output_type": "stream",
     "text": [
      "2\n",
      "1\n",
      "4\n",
      "3\n",
      "6\n",
      "5\n",
      "8\n",
      "7\n"
     ]
    }
   ],
   "source": [
    "\n",
    "\"\"\"\n",
    "Swap the adjucent pairs of a linked list\n",
    "Example: \n",
    "Input = [1,2,3,4,5,6,7,8]\n",
    "Output = [2,1,4,3,6,5,8,7]\n",
    "\"\"\"\n",
    "def swapPairs(head: ListNode):\n",
    "    if head:\n",
    "        if head.next:\n",
    "            head.val, head.next.val = head.next.val, head.val\n",
    "            head.next.next = swapPairs(head.next.next)\n",
    "\n",
    "    return head\n",
    "\n",
    "\n",
    "LinkedList = createList([1,2,3,4,5,6,7,8])\n",
    "\n",
    "Head = swapPairs(LinkedList)\n",
    "\n",
    "printList(Head)"
   ]
  },
  {
   "cell_type": "code",
   "execution_count": 41,
   "metadata": {},
   "outputs": [
    {
     "name": "stdout",
     "output_type": "stream",
     "text": [
      "1\n",
      "2\n",
      "3\n",
      "4\n",
      "5\n",
      "6\n",
      "7\n",
      "8\n",
      "9\n"
     ]
    }
   ],
   "source": [
    "\n",
    "\"\"\"\n",
    "Merge two sorted linked lists\n",
    "Example:\n",
    "Input = L1 = [1,3,5,7,9], L2 = [2,4,6,8]\n",
    "Output = [1,2,3,4,5,6,7,8,9]\n",
    "\n",
    "\"\"\"\n",
    "def mergeTwoLists(l1, l2):\n",
    "    returnList = ListNode(None)\n",
    "    head = returnList\n",
    "    while l1 or l2:\n",
    "        l1_val, l2_val = float(\"inf\"), float(\"inf\")\n",
    "\n",
    "        if l1:  l1_val = l1.val\n",
    "        if l2:  l2_val = l2.val\n",
    "\n",
    "        if l1_val < l2_val:\n",
    "            temp = ListNode(l1_val)\n",
    "            head.next = temp\n",
    "            head = head.next\n",
    "            l1 = l1.next\n",
    "        else:\n",
    "            head.next = ListNode(l2_val)\n",
    "            head = head.next\n",
    "            l2 = l2.next\n",
    "    returnList = returnList.next  \n",
    "    \n",
    "    return returnList\n",
    "\n",
    "L1 = createList([1,3,5,7,9])\n",
    "L2 = createList([2,4,6,8])\n",
    "\n",
    "result = mergeTwoLists(L1, L2)\n",
    "\n",
    "printList(result)\n"
   ]
  },
  {
   "cell_type": "code",
   "execution_count": 121,
   "metadata": {},
   "outputs": [
    {
     "name": "stdout",
     "output_type": "stream",
     "text": [
      "[1, 2, 3, 4, 5, 6, 7, 8, 9]\n",
      "[1, 2, 3, 4, 5, 6, 7, 8, 9]\n",
      "[9, 8, 7, 6, 5, 4, 3, 2, 1]\n"
     ]
    }
   ],
   "source": [
    "\n",
    "\"\"\"\n",
    "Problems based on TREE's\n",
    "\n",
    "Tree Creation and Traversal\n",
    "\n",
    "\"\"\"\n",
    "class TreeNode:\n",
    "    def __init__(self, val=0, left=None, right=None, parent=None):\n",
    "        self.val = val\n",
    "        self.left = left\n",
    "        self.right = right\n",
    "        self.parent = parent\n",
    "        return\n",
    "\n",
    "class Tree:\n",
    "    def __init__(self, Nodes = None):\n",
    "        self.Nodes = Nodes\n",
    "        self.root = TreeNode(self.Nodes[0])\n",
    "        \n",
    "        for node in self.Nodes[1::]:\n",
    "            self.insertNode(self.root, TreeNode(node))\n",
    "    \n",
    "    \n",
    "    def insertNode(self, root, node): \n",
    "        if root is None: \n",
    "            root = node \n",
    "        else: \n",
    "            if root.val < node.val: \n",
    "                if root.right is None: \n",
    "                    root.right = node\n",
    "                    node.parent = root\n",
    "                else: \n",
    "                    self.insertNode(root.right, node) \n",
    "            else: \n",
    "                if root.left is None: \n",
    "                    root.left = node\n",
    "                    node.parent = root\n",
    "                else: \n",
    "                    self.insertNode(root.left, node) \n",
    "    \n",
    "    \n",
    "    def preOrder(self, root):\n",
    "        preOrderValues = []\n",
    "        \n",
    "        if root:\n",
    "            preOrderValues.extend([root.val])\n",
    "            preOrderValues.extend(self.preOrder(root.left))\n",
    "            preOrderValues.extend(self.preOrder(root.right))\n",
    "        \n",
    "        return preOrderValues\n",
    "    \n",
    "    \n",
    "    def inOrder(self, root):\n",
    "\n",
    "        inOrderValues = []\n",
    "        if root:\n",
    "            inOrderValues.extend(self.inOrder(root.left))\n",
    "            inOrderValues.extend([root.val])\n",
    "            inOrderValues.extend(self.inOrder(root.right))\n",
    "        \n",
    "        return inOrderValues\n",
    "\n",
    "    def postOrder(self, root):\n",
    "        postOrderValues = []\n",
    "        if root:\n",
    "            postOrderValues.extend(self.postOrder(root.left))\n",
    "            postOrderValues.extend(self.postOrder(root.right))\n",
    "            postOrderValues.extend([root.val])        \n",
    "        return postOrderValues\n",
    "\n",
    "myTree = Tree(Nodes = [1,2,3,4,5,6,7,8,9])\n",
    "root = myTree.root\n",
    "\n",
    "print(myTree.preOrder(root))\n",
    "print(myTree.inOrder(root))\n",
    "print(myTree.postOrder(root))\n",
    "\n"
   ]
  },
  {
   "cell_type": "code",
   "execution_count": null,
   "metadata": {},
   "outputs": [],
   "source": []
  },
  {
   "cell_type": "code",
   "execution_count": 122,
   "metadata": {},
   "outputs": [
    {
     "name": "stdout",
     "output_type": "stream",
     "text": [
      "0.6666666666666666\n"
     ]
    }
   ],
   "source": []
  },
  {
   "cell_type": "code",
   "execution_count": 137,
   "metadata": {},
   "outputs": [
    {
     "data": {
      "text/plain": [
       "''"
      ]
     },
     "execution_count": 137,
     "metadata": {},
     "output_type": "execute_result"
    }
   ],
   "source": []
  },
  {
   "cell_type": "code",
   "execution_count": null,
   "metadata": {},
   "outputs": [],
   "source": []
  }
 ],
 "metadata": {
  "kernelspec": {
   "display_name": "Python 3",
   "language": "python",
   "name": "python3"
  },
  "language_info": {
   "codemirror_mode": {
    "name": "ipython",
    "version": 3
   },
   "file_extension": ".py",
   "mimetype": "text/x-python",
   "name": "python",
   "nbconvert_exporter": "python",
   "pygments_lexer": "ipython3",
   "version": "3.7.6"
  }
 },
 "nbformat": 4,
 "nbformat_minor": 4
}
