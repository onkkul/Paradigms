{
 "cells": [
  {
   "cell_type": "code",
   "execution_count": 130,
   "metadata": {},
   "outputs": [
    {
     "data": {
      "text/plain": [
       "'\\nCreated on Sun June 15 12:27:19 2020\\n\\n@author: Onkar Kulkarni\\n\\n'"
      ]
     },
     "execution_count": 130,
     "metadata": {},
     "output_type": "execute_result"
    }
   ],
   "source": [
    "# -*- coding: utf-8 -*-\n",
    "\n",
    "\"\"\"\n",
    "Created on Sun June 15 12:27:19 2020\n",
    "\n",
    "@author: Onkar Kulkarni\n",
    "\n",
    "\"\"\"\n"
   ]
  },
  {
   "cell_type": "code",
   "execution_count": 131,
   "metadata": {},
   "outputs": [],
   "source": [
    "\"\"\" \n",
    "Graph Theory\n",
    "\n",
    "\"\"\"\n",
    "\n",
    "import numpy\n",
    "import random\n",
    "\n",
    "class Graph:\n",
    "    \"\"\" Class for graph implementations. \"\"\"\n",
    "    \n",
    "    def __init__(self, node_count, weighted = False, directed = False):\n",
    "        \"\"\" Initialize the graph structure with basic details\"\"\"\n",
    "        \n",
    "        self.node_count = node_count\n",
    "        self.weighted = weighted\n",
    "        self.directed = directed\n",
    "        \n",
    "        self.graph = [[None for column in range(node_count)] for row in range(node_count)] \n",
    "            \n",
    "    \n",
    "    def create_edge(self, source, destination, weight = 1):\n",
    "        \"\"\" function to create edge between node(source, destination)\n",
    "            default weight is 1. If no edge exists, the field is None\n",
    "        \"\"\"\n",
    "        self.graph[source][destination] = weight\n",
    "        if not self.directed: self.graph[destination][source] = weight\n",
    "    \n",
    "        return\n",
    "    \n",
    "    \n",
    "    def get_graph(self, graph_type = \"matrix\"):\n",
    "        \"\"\" get the graph in either matrix or adjecancy list format \"\"\"\n",
    "        \n",
    "        if graph_type == \"matrix\":\n",
    "            return self.graph\n",
    "        \n",
    "        adjacency_list = []\n",
    "        for row in range(self.node_count):\n",
    "            each_node = []\n",
    "            for column in range(self.node_count):\n",
    "                if self.graph[row][column]:\n",
    "                    each_node.append({column:self.graph[row][column]})\n",
    "            \n",
    "            adjacency_list.append(each_node)\n",
    "        \n",
    "        return adjacency_list\n",
    "            \n",
    "    \n",
    "    def __str__(self):\n",
    "        \"\"\" returns the graph so far \"\"\"\n",
    "        ret_string = \"\"\n",
    "        \n",
    "        for row in self.graph:\n",
    "            ret_string += str(row) + \"\\n\"\n",
    "        return ret_string\n"
   ]
  },
  {
   "cell_type": "code",
   "execution_count": 132,
   "metadata": {
    "scrolled": true
   },
   "outputs": [
    {
     "name": "stdout",
     "output_type": "stream",
     "text": [
      "[0, 2, 4, None, None, None]\n",
      "[None, 0, 1, 7, None, None]\n",
      "[None, None, 0, None, 3, None]\n",
      "[None, None, None, 0, None, 1]\n",
      "[None, None, None, 2, 0, 5]\n",
      "[None, None, None, None, None, 0]\n",
      "\n"
     ]
    }
   ],
   "source": [
    "\n",
    "mygraph = Graph(6, weighted = True, directed = True)\n",
    "\n",
    "# mygraph.create_edge(source, destination, weight)\n",
    "mygraph.create_edge(0, 0, 0)\n",
    "mygraph.create_edge(1, 1, 0)\n",
    "mygraph.create_edge(2, 2, 0)\n",
    "mygraph.create_edge(3, 3, 0)\n",
    "mygraph.create_edge(4, 4, 0)\n",
    "mygraph.create_edge(5, 5, 0)\n",
    "mygraph.create_edge(0, 1, 2)\n",
    "mygraph.create_edge(0, 2, 4)\n",
    "mygraph.create_edge(1, 3, 7)\n",
    "mygraph.create_edge(1, 2, 1)\n",
    "mygraph.create_edge(2, 4, 3)\n",
    "mygraph.create_edge(4, 3, 2)\n",
    "mygraph.create_edge(3, 5, 1)\n",
    "mygraph.create_edge(4, 5, 5)\n",
    "\n",
    "# mygraph.create_edge(0, 0, 1)\n",
    "# mygraph.create_edge(0, 1, 1)\n",
    "# mygraph.create_edge(1, 1, 1)\n",
    "# mygraph.create_edge(1, 4, 1)\n",
    "# mygraph.create_edge(2, 0, 1)\n",
    "# mygraph.create_edge(2, 3, 1)\n",
    "# mygraph.create_edge(2, 4, 1)\n",
    "# mygraph.create_edge(4, 0, 1)\n",
    "# mygraph.create_edge(4, 2, 1)\n",
    "# mygraph.create_edge(4, 4, 1)\n",
    "        \n",
    "print(mygraph)\n",
    "\n",
    "graph = mygraph.get_graph(graph_type = \"list\")"
   ]
  },
  {
   "cell_type": "code",
   "execution_count": 133,
   "metadata": {},
   "outputs": [],
   "source": [
    "class GraphTraversal:\n",
    "    def __init__(self, graph, node_count):\n",
    "        self.graph = graph\n",
    "        self.node_count = node_count\n",
    "        return  \n",
    "\n",
    "\n",
    "    def bfs_helper(self, current_node):\n",
    "        \n",
    "        self.visited[current_node] = True\n",
    "        self.queue.append(current_node)\n",
    "        self.searched.append(current_node)\n",
    "        \n",
    "        while self.queue:\n",
    "            node = self.queue.pop(0)\n",
    "            for child in self.graph[node]:\n",
    "                destination = list(child.keys())[0]\n",
    "                if self.visited[destination] == False:\n",
    "                    self.queue.append(destination)\n",
    "                    self.visited[destination] = True\n",
    "                    self.searched.append(destination)\n",
    "        \n",
    "    def bfs(self, starting_node):\n",
    "        \"\"\" A function to implement breadth first search \"\"\"\n",
    "        \n",
    "        self.visited = [False]*self.node_count\n",
    "        self.queue = []\n",
    "        self.searched = []\n",
    "\n",
    "        self.bfs_helper(starting_node)\n",
    "        \n",
    "        for node in range(self.node_count):\n",
    "            if node not in self.searched:\n",
    "                self.bfs_helper(node)\n",
    "\n",
    "        return self.searched\n",
    "\n",
    "\n",
    "    # A function used by DFS \n",
    "    def dfs_helper(self, current_node):\n",
    "\n",
    "        if self.visited[current_node]: return\n",
    "        \n",
    "        self.visited[current_node] = True\n",
    "        self.stack.append(current_node)\n",
    "        self.searched.append(current_node)\n",
    "        \n",
    "        while self.stack:\n",
    "            node = self.stack.pop()\n",
    "            for child in self.graph[node]:\n",
    "                destination = list(child.keys())[0]\n",
    "                self.dfs_helper(destination)\n",
    "            \n",
    "                \n",
    "    def dfs(self, starting_node):\n",
    "        \"\"\" A function to implement depth  first search \"\"\"\n",
    "        self.visited =[False]*self.node_count\n",
    "        self.searched = []\n",
    "        self.stack = []\n",
    "        \n",
    "        self.dfs_helper(starting_node)\n",
    "        \n",
    "        for node in range(self.node_count):\n",
    "            if node not in self.searched:\n",
    "                self.dfs_helper(node)\n",
    "            \n",
    "        return self.searched        \n",
    "        \n",
    "        "
   ]
  },
  {
   "cell_type": "code",
   "execution_count": 134,
   "metadata": {},
   "outputs": [
    {
     "name": "stdout",
     "output_type": "stream",
     "text": [
      "Adjecancy list of graph:  [[{1: 2}, {2: 4}], [{2: 1}, {3: 7}], [{4: 3}], [{5: 1}], [{3: 2}, {5: 5}], []]\n",
      "BFS search result:  [0, 1, 2, 3, 4, 5]\n",
      "DFS search result:  [0, 1, 2, 4, 3, 5]\n"
     ]
    }
   ],
   "source": [
    "\n",
    "print(\"Adjecancy list of graph: \", graph)\n",
    "traversal = GraphTraversal(graph, 6)\n",
    "\n",
    "print(\"BFS search result: \", traversal.bfs(0))\n",
    "\n",
    "print(\"DFS search result: \", traversal.dfs(0))\n"
   ]
  },
  {
   "cell_type": "code",
   "execution_count": null,
   "metadata": {},
   "outputs": [],
   "source": []
  }
 ],
 "metadata": {
  "kernelspec": {
   "display_name": "Python 3",
   "language": "python",
   "name": "python3"
  },
  "language_info": {
   "codemirror_mode": {
    "name": "ipython",
    "version": 3
   },
   "file_extension": ".py",
   "mimetype": "text/x-python",
   "name": "python",
   "nbconvert_exporter": "python",
   "pygments_lexer": "ipython3",
   "version": "3.7.6"
  }
 },
 "nbformat": 4,
 "nbformat_minor": 4
}
