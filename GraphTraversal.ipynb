{
 "cells": [
  {
   "cell_type": "code",
   "execution_count": 1,
   "metadata": {},
   "outputs": [
    {
     "data": {
      "text/plain": [
       "'\\nCreated on Sun June 15 12:27:19 2020\\n\\n@author: Onkar Kulkarni\\n\\n'"
      ]
     },
     "execution_count": 1,
     "metadata": {},
     "output_type": "execute_result"
    }
   ],
   "source": [
    "# -*- coding: utf-8 -*-\n",
    "\n",
    "\"\"\"\n",
    "Created on Sun June 15 12:27:19 2020\n",
    "\n",
    "@author: Onkar Kulkarni\n",
    "\n",
    "\"\"\"\n"
   ]
  },
  {
   "cell_type": "code",
   "execution_count": 1,
   "metadata": {},
   "outputs": [],
   "source": [
    "\n",
    "import Graph\n"
   ]
  },
  {
   "cell_type": "code",
   "execution_count": 21,
   "metadata": {
    "scrolled": true
   },
   "outputs": [
    {
     "name": "stdout",
     "output_type": "stream",
     "text": [
      "[0, 4, 1, None, None, None]\n",
      "[None, 0, 7, 1, None, None]\n",
      "[None, None, 0, None, 3, None]\n",
      "[None, None, None, 0, None, 1]\n",
      "[None, None, None, 2, 0, 5]\n",
      "[None, None, None, None, None, 0]\n",
      "\n"
     ]
    }
   ],
   "source": [
    "\n",
    "mygraph = Graph.Graph(6, weighted = True, directed = True)\n",
    "\n",
    "# mygraph.create_edge(source, destination, weight)\n",
    "mygraph.create_edge(0, 0, 0)\n",
    "mygraph.create_edge(1, 1, 0)\n",
    "mygraph.create_edge(2, 2, 0)\n",
    "mygraph.create_edge(3, 3, 0)\n",
    "mygraph.create_edge(4, 4, 0)\n",
    "mygraph.create_edge(5, 5, 0)\n",
    "mygraph.create_edge(0, 1, 4)\n",
    "mygraph.create_edge(0, 2, 1)\n",
    "mygraph.create_edge(1, 3, 1)\n",
    "mygraph.create_edge(1, 2, 7)\n",
    "mygraph.create_edge(2, 4, 3)\n",
    "mygraph.create_edge(4, 3, 2)\n",
    "mygraph.create_edge(3, 5, 1)\n",
    "mygraph.create_edge(4, 5, 5)\n",
    "\n",
    "# mygraph.create_edge(0, 0, 1)\n",
    "# mygraph.create_edge(0, 1, 1)\n",
    "# mygraph.create_edge(1, 1, 1)\n",
    "# mygraph.create_edge(1, 4, 1)\n",
    "# mygraph.create_edge(2, 0, 1)\n",
    "# mygraph.create_edge(2, 3, 1)\n",
    "# mygraph.create_edge(2, 4, 1)\n",
    "# mygraph.create_edge(4, 0, 1)\n",
    "# mygraph.create_edge(4, 2, 1)\n",
    "# mygraph.create_edge(4, 4, 1)\n",
    "        \n",
    "print(mygraph)\n",
    "\n",
    "graph = mygraph.get_graph(graph_type = \"list\")"
   ]
  },
  {
   "cell_type": "code",
   "execution_count": 44,
   "metadata": {},
   "outputs": [],
   "source": [
    "class GraphTraversal:\n",
    "    def __init__(self, graph, node_count):\n",
    "        self.graph = graph\n",
    "        self.node_count = node_count\n",
    "        return  \n",
    "\n",
    "\n",
    "    def bfs_helper(self, current_node):\n",
    "        \"\"\" Helper function for for BFS. \"\"\"\n",
    "        self.visited[current_node] = True\n",
    "        self.queue.append(current_node)\n",
    "        self.searched.append(current_node)\n",
    "        \n",
    "        while self.queue:\n",
    "            node = self.queue.pop(0)\n",
    "            for child in self.graph[node]:\n",
    "                destination = list(child.keys())[0]\n",
    "                if self.visited[destination] == False:\n",
    "                    self.queue.append(destination)\n",
    "                    self.visited[destination] = True\n",
    "                    self.searched.append(destination)\n",
    "        \n",
    "    def bfs(self, starting_node):\n",
    "        \"\"\" A function to implement breadth first search \"\"\"\n",
    "        self.visited = [False]*self.node_count\n",
    "        self.queue = []\n",
    "        self.searched = []\n",
    "\n",
    "        self.bfs_helper(starting_node)\n",
    "        \n",
    "        for node in range(self.node_count):\n",
    "            if node not in self.searched:\n",
    "                self.bfs_helper(node)\n",
    "\n",
    "        return self.searched\n",
    "\n",
    "\n",
    "    def dfs_helper(self, current_node):\n",
    "        \"\"\" Helper function for for DFS. \"\"\"\n",
    "        if self.visited[current_node]: return\n",
    "        \n",
    "        self.visited[current_node] = True\n",
    "        self.stack.append(current_node)\n",
    "        self.searched.append(current_node)\n",
    "        \n",
    "        while self.stack:\n",
    "            node = self.stack.pop()\n",
    "            for child in self.graph[node]:\n",
    "                destination = list(child.keys())[0]\n",
    "                self.dfs_helper(destination)\n",
    "        return\n",
    "          \n",
    "    def dfs(self, starting_node):\n",
    "        \"\"\" A function to implement depth  first search \"\"\"\n",
    "        self.visited =[False]*self.node_count\n",
    "        self.searched = []\n",
    "        self.stack = []\n",
    "        \n",
    "        self.dfs_helper(starting_node)\n",
    "        \n",
    "        for node in range(self.node_count):\n",
    "            if node not in self.searched:\n",
    "                self.dfs_helper(node)\n",
    "            \n",
    "        return self.searched\n",
    "    \n",
    "    \n",
    "    def bestFirst_dfs_helper(self, current_node):\n",
    "        \"\"\" Helper for best first DFS. Traces the min value neighbour at each node. \"\"\"\n",
    "        if self.visited[current_node]: return\n",
    "        self.visited[current_node] = True\n",
    "        self.stack.append(current_node)\n",
    "        self.searched.append(current_node)\n",
    "        \n",
    "        while self.stack:\n",
    "            node = self.stack.pop()\n",
    "            destinations = []\n",
    "            costs = []\n",
    "            for child in self.graph[node]:\n",
    "                destinations.append(list(child.keys())[0])\n",
    "                costs.append(list(child.values())[0])\n",
    "            while costs:\n",
    "                index_of_min = costs.index(min(costs))\n",
    "                next_node = destinations[index_of_min]\n",
    "                self.bestFirst_dfs_helper(next_node)\n",
    "                del[costs[index_of_min]]\n",
    "                del[destinations[index_of_min]]\n",
    "        return\n",
    "                \n",
    "    def best_first_dfs(self, starting_node):\n",
    "        \"\"\" This traces the node with minimum cost to reach first.\n",
    "        Remember that best first BFS doesn't bear any fruit\n",
    "        as it processes same nodes as that of normal BFS \"\"\"\n",
    "        \n",
    "        # Technically best first dfs also doesn't bear any fruits. \n",
    "        # IDK why i implemented it though!!\n",
    "        self.visited = [False]*self.node_count\n",
    "        self.searched = []\n",
    "        self.stack = []\n",
    "        \n",
    "        self.bestFirst_dfs_helper(starting_node)\n",
    "        return self.searched\n"
   ]
  },
  {
   "cell_type": "code",
   "execution_count": 45,
   "metadata": {},
   "outputs": [
    {
     "name": "stdout",
     "output_type": "stream",
     "text": [
      "Adjecancy list of graph:  [[{1: 4}, {2: 1}], [{2: 7}, {3: 1}], [{4: 3}], [{5: 1}], [{3: 2}, {5: 5}], []]\n",
      "BFS search result:  [0, 1, 2, 3, 4, 5]\n",
      "DFS search result:  [0, 1, 2, 4, 3, 5]\n",
      "Best first DFS search result:  [0, 2, 4, 3, 5, 1]\n"
     ]
    }
   ],
   "source": [
    "\n",
    "print(\"Adjecancy list of graph: \", graph)\n",
    "traversal = GraphTraversal(graph, 6)\n",
    "\n",
    "print(\"BFS search result: \", traversal.bfs(0))\n",
    "\n",
    "print(\"DFS search result: \", traversal.dfs(0))\n",
    "\n",
    "print(\"Best first DFS search result: \", traversal.best_first_dfs(0))"
   ]
  },
  {
   "cell_type": "code",
   "execution_count": null,
   "metadata": {},
   "outputs": [],
   "source": []
  }
 ],
 "metadata": {
  "kernelspec": {
   "display_name": "Python 3",
   "language": "python",
   "name": "python3"
  },
  "language_info": {
   "codemirror_mode": {
    "name": "ipython",
    "version": 3
   },
   "file_extension": ".py",
   "mimetype": "text/x-python",
   "name": "python",
   "nbconvert_exporter": "python",
   "pygments_lexer": "ipython3",
   "version": "3.7.6"
  }
 },
 "nbformat": 4,
 "nbformat_minor": 4
}
