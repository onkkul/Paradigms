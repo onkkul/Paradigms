{
 "cells": [
  {
   "cell_type": "code",
   "execution_count": null,
   "metadata": {},
   "outputs": [],
   "source": []
  },
  {
   "cell_type": "code",
   "execution_count": 107,
   "metadata": {},
   "outputs": [],
   "source": [
    "class MST:\n",
    "    \"\"\" Class to get minimum spanning tree from a graph. \"\"\"\n",
    "    def __init__(self, node_count, graph):\n",
    "        \"\"\" initialize nodes and strore graph. \"\"\"\n",
    "        self.node_count = node_count\n",
    "        self.graph = graph\n",
    "        return\n",
    "    \n",
    "    \n",
    "    def getMinCostEdge(self, distance, visited):\n",
    "        \"\"\" Helper function to get the edge such that the edge\n",
    "        is the minimum among E(visited_nodes, unvisited_nodes)\"\"\"\n",
    "        minDist = float(\"inf\") \n",
    "        for v in range(self.node_count): \n",
    "            if distance[v] < minDist and not visited[v]: \n",
    "                minDist = distance[v] \n",
    "                min_index = v \n",
    "        return min_index \n",
    "\n",
    "    def prims(self): \n",
    "        \"\"\" \n",
    "        Works by: Adding least cost edge between visited and unvisted\n",
    "        nodes at each iteration. Does not work on discontinued graph.\n",
    "        Time = O()\n",
    "        Space = O()\n",
    "        \"\"\"\n",
    "        distance = [float(\"inf\")] * self.node_count \n",
    "        previous = [None] * self.node_count \n",
    "        visited = [False] * self.node_count \n",
    "\n",
    "        distance[0] = 0 \n",
    "        previous[0] = -1\n",
    "  \n",
    "        for _ in range(self.node_count): \n",
    "            current_node = self.getMinCostEdge(distance, visited)  # from unexplored\n",
    "            visited[current_node] = True\n",
    "            for adj_node in range(self.node_count): \n",
    "                if self.graph[current_node][adj_node] and not visited[adj_node] and distance[adj_node] > self.graph[current_node][adj_node]: \n",
    "                    distance[adj_node] = self.graph[current_node][adj_node] \n",
    "                    previous[adj_node] = current_node\n",
    "        \n",
    "        print (\" Edge  \\tWeight\")\n",
    "        for i in range(1, self.node_count): \n",
    "            print (previous[i], \"-\", i, \"\\t\", self.graph[i][previous[i]])\n",
    "        \n",
    "        return\n",
    "    \n",
    "    def getEVpair(self):\n",
    "        \"\"\" Helper function to get the edges and their costs\n",
    "        from graph. As this depends upon the representation of graph, \n",
    "        this does not count towards the complexity of algorithm. \"\"\"\n",
    "        edges = {}\n",
    "        weights = {}\n",
    "        index = 0\n",
    "        for row in range(self.node_count):\n",
    "            for column in range(self.node_count):\n",
    "                if self.graph[row][column]:\n",
    "                    edges[index] = [row, column]\n",
    "                    weights[index] = self.graph[row][column]\n",
    "                    index += 1\n",
    "        return edges, weights\n",
    "    \n",
    "    def krushkals(self):\n",
    "        \"\"\"\n",
    "        Works by: selecting least cost edge of remaining graph at \n",
    "        each iteration. the edge need not to be connected to already \n",
    "        visited nodes. Works on disconnected graphs\n",
    "        Time = O(ElogV))\n",
    "        Space = O()\n",
    "        \"\"\"\n",
    "        edges, weights = self.getEVpair()  # This does not count towards krushkal\n",
    "        values = list(weights.values())\n",
    "        keys = list(weights.keys())\n",
    "        visited = [x for x in range(self.node_count)]\n",
    "\n",
    "        min_weight = min(values)\n",
    "        key_of_min = values.index(min(values))\n",
    "        min_edge = edges[keys[key_of_min]]\n",
    "        values.pop(key_of_min)\n",
    "        visited.append(min_edge[0])\n",
    "        visited.append(min_edge[1])\n",
    "        while len(visited) != self.node_count:\n",
    "            min_weight = min(values)\n",
    "            key_of_min = values.index(min(values))\n",
    "            min_edge = edges[keys[key_of_min]]\n",
    "            values.pop(key_of_min)\n",
    "            if min_edge[1] not in visited:\n",
    "                visited.append(min_edge[0])\n",
    "                visited.append(min_edge[1])\n",
    "            \n",
    "        print(min_edge, min_weight)\n",
    "            \n",
    "            \n",
    "    "
   ]
  },
  {
   "cell_type": "code",
   "execution_count": 108,
   "metadata": {},
   "outputs": [
    {
     "name": "stdout",
     "output_type": "stream",
     "text": [
      " Edge  \tWeight\n",
      "0 - 1 \t 2\n",
      "1 - 2 \t 3\n",
      "0 - 3 \t 6\n",
      "1 - 4 \t 5\n"
     ]
    },
    {
     "ename": "ValueError",
     "evalue": "min() arg is an empty sequence",
     "output_type": "error",
     "traceback": [
      "\u001b[1;31m---------------------------------------------------------------------------\u001b[0m",
      "\u001b[1;31mValueError\u001b[0m                                Traceback (most recent call last)",
      "\u001b[1;32m<ipython-input-108-04b74be7d123>\u001b[0m in \u001b[0;36m<module>\u001b[1;34m\u001b[0m\n\u001b[0;32m      8\u001b[0m \u001b[0mmst\u001b[0m\u001b[1;33m.\u001b[0m\u001b[0mprims\u001b[0m\u001b[1;33m(\u001b[0m\u001b[1;33m)\u001b[0m\u001b[1;33m\u001b[0m\u001b[1;33m\u001b[0m\u001b[0m\n\u001b[0;32m      9\u001b[0m \u001b[1;33m\u001b[0m\u001b[0m\n\u001b[1;32m---> 10\u001b[1;33m \u001b[0mmst\u001b[0m\u001b[1;33m.\u001b[0m\u001b[0mkrushkals\u001b[0m\u001b[1;33m(\u001b[0m\u001b[1;33m)\u001b[0m\u001b[1;33m\u001b[0m\u001b[1;33m\u001b[0m\u001b[0m\n\u001b[0m",
      "\u001b[1;32m<ipython-input-107-35020d28c68b>\u001b[0m in \u001b[0;36mkrushkals\u001b[1;34m(self)\u001b[0m\n\u001b[0;32m     81\u001b[0m         \u001b[0mvisited\u001b[0m\u001b[1;33m.\u001b[0m\u001b[0mappend\u001b[0m\u001b[1;33m(\u001b[0m\u001b[0mmin_edge\u001b[0m\u001b[1;33m[\u001b[0m\u001b[1;36m1\u001b[0m\u001b[1;33m]\u001b[0m\u001b[1;33m)\u001b[0m\u001b[1;33m\u001b[0m\u001b[1;33m\u001b[0m\u001b[0m\n\u001b[0;32m     82\u001b[0m         \u001b[1;32mwhile\u001b[0m \u001b[0mlen\u001b[0m\u001b[1;33m(\u001b[0m\u001b[0mvisited\u001b[0m\u001b[1;33m)\u001b[0m \u001b[1;33m!=\u001b[0m \u001b[0mself\u001b[0m\u001b[1;33m.\u001b[0m\u001b[0mnode_count\u001b[0m\u001b[1;33m:\u001b[0m\u001b[1;33m\u001b[0m\u001b[1;33m\u001b[0m\u001b[0m\n\u001b[1;32m---> 83\u001b[1;33m             \u001b[0mmin_weight\u001b[0m \u001b[1;33m=\u001b[0m \u001b[0mmin\u001b[0m\u001b[1;33m(\u001b[0m\u001b[0mvalues\u001b[0m\u001b[1;33m)\u001b[0m\u001b[1;33m\u001b[0m\u001b[1;33m\u001b[0m\u001b[0m\n\u001b[0m\u001b[0;32m     84\u001b[0m             \u001b[0mkey_of_min\u001b[0m \u001b[1;33m=\u001b[0m \u001b[0mvalues\u001b[0m\u001b[1;33m.\u001b[0m\u001b[0mindex\u001b[0m\u001b[1;33m(\u001b[0m\u001b[0mmin\u001b[0m\u001b[1;33m(\u001b[0m\u001b[0mvalues\u001b[0m\u001b[1;33m)\u001b[0m\u001b[1;33m)\u001b[0m\u001b[1;33m\u001b[0m\u001b[1;33m\u001b[0m\u001b[0m\n\u001b[0;32m     85\u001b[0m             \u001b[0mmin_edge\u001b[0m \u001b[1;33m=\u001b[0m \u001b[0medges\u001b[0m\u001b[1;33m[\u001b[0m\u001b[0mkeys\u001b[0m\u001b[1;33m[\u001b[0m\u001b[0mkey_of_min\u001b[0m\u001b[1;33m]\u001b[0m\u001b[1;33m]\u001b[0m\u001b[1;33m\u001b[0m\u001b[1;33m\u001b[0m\u001b[0m\n",
      "\u001b[1;31mValueError\u001b[0m: min() arg is an empty sequence"
     ]
    }
   ],
   "source": [
    "graph =[[0,    2, None, 6,    None], \n",
    "        [2,    0, 3,    8,    5   ], \n",
    "        [None, 3, 0,    None, 7   ], \n",
    "        [6,    8, None, 0,    9   ], \n",
    "        [None, 5, 7,    9,    0   ]] \n",
    "mst = MST(5, graph)\n",
    "\n",
    "mst.prims()\n",
    "\n",
    "mst.krushkals()"
   ]
  },
  {
   "cell_type": "code",
   "execution_count": null,
   "metadata": {},
   "outputs": [],
   "source": []
  },
  {
   "cell_type": "code",
   "execution_count": null,
   "metadata": {},
   "outputs": [],
   "source": []
  },
  {
   "cell_type": "code",
   "execution_count": null,
   "metadata": {},
   "outputs": [],
   "source": []
  }
 ],
 "metadata": {
  "kernelspec": {
   "display_name": "Python 3",
   "language": "python",
   "name": "python3"
  },
  "language_info": {
   "codemirror_mode": {
    "name": "ipython",
    "version": 3
   },
   "file_extension": ".py",
   "mimetype": "text/x-python",
   "name": "python",
   "nbconvert_exporter": "python",
   "pygments_lexer": "ipython3",
   "version": "3.7.6"
  }
 },
 "nbformat": 4,
 "nbformat_minor": 4
}
