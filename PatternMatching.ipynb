{
 "cells": [
  {
   "cell_type": "code",
   "execution_count": null,
   "metadata": {},
   "outputs": [],
   "source": [
    "# -*- coding: utf-8 -*-\n",
    "\n",
    "\"\"\"\n",
    "Created on Mon June 22 17:45:47 2020\n",
    "\n",
    "@author: Onkar Kulkarni\n",
    "\n",
    "\"\"\""
   ]
  },
  {
   "cell_type": "code",
   "execution_count": 35,
   "metadata": {},
   "outputs": [],
   "source": [
    "class PatternMatching:\n",
    "    \"\"\" Class for all pattern matching algorithms. \"\"\"\n",
    "    def __init__(self):\n",
    "        return\n",
    "    \n",
    "    \n",
    "    def robinKarp(self, string, pattern):\n",
    "        \"\"\"\n",
    "        Works by: Matching hash(pattern) with hash of sliding window of length = len(pattern)\n",
    "        Time for string = a^m, pattern = a^n: Worst = (m*n) ; exp. char comparisions = (m+n)\n",
    "        Space = O(). \"\"\"\n",
    "        start = 0\n",
    "        end = len(pattern)\n",
    "        positions = []\n",
    "        while end != len(string)-1:\n",
    "            if hash(string[start:end]) == hash(pattern):\n",
    "                positions.append(start)\n",
    "            start += 1\n",
    "            end += 1\n",
    "        return positions\n",
    "    \n",
    "    \n",
    "    def computePrefixSuffix(self, pattern): \n",
    "        longest_prefix_suffix = [0]*len(pattern)\n",
    "        length_previous_PS = 0     # length of the previous longest prefix suffix \n",
    "\n",
    "        longest_prefix_suffix[0]   # longest_prefix_suffix[0] is always 0 \n",
    "        i = 1\n",
    "\n",
    "        # the loop calculates longest_prefix_suffix[i] for i = 1 to len(pattern) -1 \n",
    "        while i < len(pattern) : \n",
    "            if pattern[i]== pattern[length_previous_PS]: \n",
    "                length_previous_PS += 1\n",
    "                longest_prefix_suffix[i] = length_previous_PS\n",
    "                i += 1\n",
    "            else: \n",
    "                if length_previous_PS != 0: length_previous_PS = longest_prefix_suffix[length_previous_PS-1]\n",
    "                else:\n",
    "                    longest_prefix_suffix[i] = 0\n",
    "                    i += 1\n",
    "        return longest_prefix_suffix\n",
    "    \n",
    "    def kMP(self, string, pattern):\n",
    "        # Preprocess the pattern to give array that will hold the longest prefix suffix values for pattern  \n",
    "        longest_prefix_suffix = self.computePrefixSuffix(pattern)\n",
    "\n",
    "        i = 0                                                     # index for string[]\n",
    "        j = 0                                                     # index for pattern[]\n",
    "        locations = []\n",
    "        while i < len(string): \n",
    "            if pattern[j] == string[i]: \n",
    "                i += 1\n",
    "                j += 1\n",
    "\n",
    "            if j == len(pattern) :                               # Match\n",
    "                locations.append((i-j))\n",
    "                j = longest_prefix_suffix[j-1]\n",
    "            elif i < len(string) and pattern[j] != string[i]:    # Mismatch after j matches \n",
    "                if j != 0:    j = longest_prefix_suffix[j-1]     # Don't match lps[0:j-1] characters (already matched) \n",
    "                else:         i += 1\n",
    "\n",
    "        return locations\n",
    "\n"
   ]
  },
  {
   "cell_type": "code",
   "execution_count": 34,
   "metadata": {},
   "outputs": [
    {
     "name": "stdout",
     "output_type": "stream",
     "text": [
      "[1, 4]\n",
      "[1, 4]\n"
     ]
    }
   ],
   "source": [
    "\n",
    "pattern_matching = PatternMatching()\n",
    "\n",
    "print(pattern_matching.robinKarp(\"mississippi\",\"iss\"))\n",
    "print(pattern_matching.kMP(\"mississippi\",\"iss\"))"
   ]
  },
  {
   "cell_type": "code",
   "execution_count": null,
   "metadata": {},
   "outputs": [],
   "source": []
  }
 ],
 "metadata": {
  "kernelspec": {
   "display_name": "Python 3",
   "language": "python",
   "name": "python3"
  },
  "language_info": {
   "codemirror_mode": {
    "name": "ipython",
    "version": 3
   },
   "file_extension": ".py",
   "mimetype": "text/x-python",
   "name": "python",
   "nbconvert_exporter": "python",
   "pygments_lexer": "ipython3",
   "version": "3.7.6"
  }
 },
 "nbformat": 4,
 "nbformat_minor": 4
}
