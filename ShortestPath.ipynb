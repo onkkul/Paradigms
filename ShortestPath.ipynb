{
 "cells": [
  {
   "cell_type": "code",
   "execution_count": 1,
   "metadata": {},
   "outputs": [
    {
     "data": {
      "text/plain": [
       "'\\nCreated on Sun June 18 10:42:19 2020\\n\\n@author: Onkar Kulkarni\\n\\n'"
      ]
     },
     "execution_count": 1,
     "metadata": {},
     "output_type": "execute_result"
    }
   ],
   "source": [
    "# -*- coding: utf-8 -*-\n",
    "\n",
    "\"\"\"\n",
    "Created on Sun June 18 10:42:19 2020\n",
    "\n",
    "@author: Onkar Kulkarni\n",
    "\n",
    "\"\"\""
   ]
  },
  {
   "cell_type": "code",
   "execution_count": 2,
   "metadata": {},
   "outputs": [
    {
     "name": "stdout",
     "output_type": "stream",
     "text": [
      "[0, 1, 1, 1, None, None]\n",
      "[None, 0, 1, None, None, None]\n",
      "[None, None, 0, None, 1, None]\n",
      "[1, None, None, 0, None, 1]\n",
      "[None, None, None, 1, 0, 1]\n",
      "[None, None, None, None, None, 0]\n",
      "\n"
     ]
    }
   ],
   "source": [
    "\n",
    "import Graph\n",
    "\n",
    "\n",
    "mygraph = Graph.Graph(6, weighted = False, directed = True)\n",
    "\n",
    "# mygraph.create_edge(source, destination, weight)\n",
    "# mygraph.create_edge(0, 0, 0)\n",
    "# mygraph.create_edge(1, 1, 0)\n",
    "# mygraph.create_edge(2, 2, 0)\n",
    "# mygraph.create_edge(3, 3, 0)\n",
    "# mygraph.create_edge(4, 4, 0)\n",
    "# mygraph.create_edge(5, 5, 0)\n",
    "# mygraph.create_edge(0, 1, 4)\n",
    "# mygraph.create_edge(0, 2, 1)\n",
    "# mygraph.create_edge(1, 3, 1)\n",
    "# mygraph.create_edge(1, 2, 7)\n",
    "# mygraph.create_edge(2, 4, 3)\n",
    "# mygraph.create_edge(4, 3, 2)\n",
    "# mygraph.create_edge(3, 5, 1)\n",
    "# mygraph.create_edge(4, 5, 5)\n",
    "\n",
    "mygraph.create_edge(0, 0, 0)\n",
    "mygraph.create_edge(1, 1, 0)\n",
    "mygraph.create_edge(2, 2, 0)\n",
    "mygraph.create_edge(3, 3, 0)\n",
    "mygraph.create_edge(4, 4, 0)\n",
    "mygraph.create_edge(5, 5, 0)\n",
    "mygraph.create_edge(0, 1, 1)\n",
    "mygraph.create_edge(0, 2, 1)\n",
    "mygraph.create_edge(0, 3, 1)\n",
    "mygraph.create_edge(3, 0, 1)\n",
    "mygraph.create_edge(1, 2, 1)\n",
    "mygraph.create_edge(2, 4, 1)\n",
    "mygraph.create_edge(4, 3, 1)\n",
    "mygraph.create_edge(3, 5, 1)\n",
    "mygraph.create_edge(4, 5, 1)\n",
    "\n",
    "# mygraph.create_edge(0, 0, 1)\n",
    "# mygraph.create_edge(0, 1, 1)\n",
    "# mygraph.create_edge(1, 1, 1)\n",
    "# mygraph.create_edge(1, 4, 1)\n",
    "# mygraph.create_edge(2, 0, 1)\n",
    "# mygraph.create_edge(2, 3, 1)\n",
    "# mygraph.create_edge(2, 4, 1)\n",
    "# mygraph.create_edge(4, 0, 1)\n",
    "# mygraph.create_edge(4, 2, 1)\n",
    "# mygraph.create_edge(4, 4, 1)\n",
    "\n",
    "graph = mygraph.get_graph(graph_type = \"list\")\n",
    "print(mygraph)"
   ]
  },
  {
   "cell_type": "code",
   "execution_count": 41,
   "metadata": {},
   "outputs": [],
   "source": [
    "class ShortestPath:\n",
    "    \"\"\" When to use what?\n",
    "        1) One source and One Destination-\n",
    "            → Use A* Search Algorithm (Huristics based, for Unweighted as well as Weighted Graphs)\n",
    "\n",
    "        2) One Source, All Destination –\n",
    "            → Use BFS (For Unweighted Graphs)\n",
    "            → Use Dijkstra (For Weighted Graphs without negative weights)\n",
    "            → Use Bellman Ford (For Weighted Graphs with negative weights)\n",
    "\n",
    "        3) Between every pair of nodes-\n",
    "            → Floyd-Warshall\n",
    "            → Johnson’s Algorithm\n",
    "        \n",
    "        4) The shortest stochastic path problem-\n",
    "            → Viterbi Algorithm\n",
    "    \"\"\"\n",
    "    def __init__(self, graph, node_count):\n",
    "        self.graph = graph\n",
    "        self.node_count = node_count\n",
    "        return\n",
    "\n",
    "    def Astar(self):\n",
    "        \"\"\" Huristics based search. \n",
    "        Time = O(E)\n",
    "        Space = O(V*V)\n",
    "        \"\"\"\n",
    "        return\n",
    "    \n",
    "    def modified_bfs(self, source, destination):\n",
    "        \"\"\"\n",
    "        Works by:\n",
    "        Used for:   Single source - unweighted and (directed or undirected)\n",
    "        Time = O(V+E)\n",
    "        Space = O()\n",
    "        \"\"\"\n",
    "        self.visited = [False]*self.node_count\n",
    "        self.queue = [source]\n",
    "        temp = [None]*self.node_count\n",
    "        self.distance = [float(\"inf\")]*self.node_count\n",
    "\n",
    "        self.distance[source] = 0\n",
    "        self.visited[source] = True\n",
    "        \n",
    "        while self.queue:\n",
    "            current_node = self.queue.pop(0)\n",
    "            for neighbour in self.graph[current_node]:\n",
    "                next_node = list(neighbour.keys())[0]\n",
    "                if not self.visited[next_node]:\n",
    "                    self.visited[next_node] = True\n",
    "                    self.distance[next_node] = self.distance[current_node]+1\n",
    "                    temp[next_node] = current_node\n",
    "                    self.queue.append(next_node)\n",
    "        cost = self.distance[destination]\n",
    "        path = []\n",
    "        while destination != source:\n",
    "            path.insert(0, destination)\n",
    "            destination = path[destination]\n",
    "        path.insert(0, destination)\n",
    "        \n",
    "\n",
    "        return path, cost\n",
    "        \n",
    "    \n",
    "    def dijkstras(self):\n",
    "        \"\"\"\n",
    "        Works by:\n",
    "        Used for:   Single source - undirected & directed\n",
    "                    Single source - unweighted & weighted(only +ve)\n",
    "        Time = O(V^2)\n",
    "        Space = O()\n",
    "        \"\"\"\n",
    "        return\n",
    "    \n",
    "    def bellmanFord(self):\n",
    "        \"\"\"\n",
    "        Works by:\n",
    "        Used for:   Single source - directed & weighted(+ve & -ve)\n",
    "                    Detecting -ve Cycles\n",
    "        Time = O(VE)\n",
    "        Space = O()\n",
    "        \"\"\"\n",
    "        return\n",
    "    \n",
    "    def floydWarshall(self):\n",
    "        \"\"\"\n",
    "        Works by:\n",
    "        Used for: All pair shortest path - directed & undirected\n",
    "        Time = O(V^3)\n",
    "        Space = O()\n",
    "        \"\"\"\n",
    "        return\n",
    "    \n",
    "    def Johnsons(self):\n",
    "        \"\"\"\n",
    "        Works by:\n",
    "        Used for: All pair shortest path - directed & undirected\n",
    "        Time = O(V^2(log(V) + |V||E|))\n",
    "        Space = O()\n",
    "        \"\"\"\n",
    "        return\n",
    "    \n",
    "    \n"
   ]
  },
  {
   "cell_type": "code",
   "execution_count": 42,
   "metadata": {},
   "outputs": [
    {
     "name": "stdout",
     "output_type": "stream",
     "text": [
      "graph:  [[{1: 1}, {2: 1}, {3: 1}], [{2: 1}], [{4: 1}], [{0: 1}, {5: 1}], [{3: 1}, {5: 1}], []]\n"
     ]
    },
    {
     "ename": "KeyboardInterrupt",
     "evalue": "",
     "output_type": "error",
     "traceback": [
      "\u001b[1;31m---------------------------------------------------------------------------\u001b[0m",
      "\u001b[1;31mKeyboardInterrupt\u001b[0m                         Traceback (most recent call last)",
      "\u001b[1;32m<ipython-input-42-b5a9448de2fa>\u001b[0m in \u001b[0;36m<module>\u001b[1;34m\u001b[0m\n\u001b[0;32m      4\u001b[0m \u001b[0msource\u001b[0m \u001b[1;33m=\u001b[0m \u001b[1;36m1\u001b[0m\u001b[1;33m\u001b[0m\u001b[1;33m\u001b[0m\u001b[0m\n\u001b[0;32m      5\u001b[0m \u001b[0mdestination\u001b[0m \u001b[1;33m=\u001b[0m \u001b[1;36m0\u001b[0m\u001b[1;33m\u001b[0m\u001b[1;33m\u001b[0m\u001b[0m\n\u001b[1;32m----> 6\u001b[1;33m \u001b[0mprint\u001b[0m\u001b[1;33m(\u001b[0m\u001b[0mspath\u001b[0m\u001b[1;33m.\u001b[0m\u001b[0mmodified_bfs\u001b[0m\u001b[1;33m(\u001b[0m\u001b[0msource\u001b[0m\u001b[1;33m,\u001b[0m \u001b[0mdestination\u001b[0m\u001b[1;33m)\u001b[0m\u001b[1;33m)\u001b[0m\u001b[1;33m\u001b[0m\u001b[1;33m\u001b[0m\u001b[0m\n\u001b[0m",
      "\u001b[1;32m<ipython-input-41-d293f3f9c5cb>\u001b[0m in \u001b[0;36mmodified_bfs\u001b[1;34m(self, source, destination)\u001b[0m\n\u001b[0;32m     56\u001b[0m         \u001b[1;32mwhile\u001b[0m \u001b[0mdestination\u001b[0m \u001b[1;33m!=\u001b[0m \u001b[0msource\u001b[0m\u001b[1;33m:\u001b[0m\u001b[1;33m\u001b[0m\u001b[1;33m\u001b[0m\u001b[0m\n\u001b[0;32m     57\u001b[0m             \u001b[0mpath\u001b[0m\u001b[1;33m.\u001b[0m\u001b[0minsert\u001b[0m\u001b[1;33m(\u001b[0m\u001b[1;36m0\u001b[0m\u001b[1;33m,\u001b[0m \u001b[0mdestination\u001b[0m\u001b[1;33m)\u001b[0m\u001b[1;33m\u001b[0m\u001b[1;33m\u001b[0m\u001b[0m\n\u001b[1;32m---> 58\u001b[1;33m             \u001b[0mdestination\u001b[0m \u001b[1;33m=\u001b[0m \u001b[0mpath\u001b[0m\u001b[1;33m[\u001b[0m\u001b[0mdestination\u001b[0m\u001b[1;33m]\u001b[0m\u001b[1;33m\u001b[0m\u001b[1;33m\u001b[0m\u001b[0m\n\u001b[0m\u001b[0;32m     59\u001b[0m         \u001b[0mpath\u001b[0m\u001b[1;33m.\u001b[0m\u001b[0minsert\u001b[0m\u001b[1;33m(\u001b[0m\u001b[1;36m0\u001b[0m\u001b[1;33m,\u001b[0m \u001b[0mdestination\u001b[0m\u001b[1;33m)\u001b[0m\u001b[1;33m\u001b[0m\u001b[1;33m\u001b[0m\u001b[0m\n\u001b[0;32m     60\u001b[0m \u001b[1;33m\u001b[0m\u001b[0m\n",
      "\u001b[1;31mKeyboardInterrupt\u001b[0m: "
     ]
    }
   ],
   "source": [
    "print(\"graph: \", graph)\n",
    "spath = ShortestPath(graph, 6)\n",
    "\n",
    "source = 1\n",
    "destination = 0\n",
    "print(spath.modified_bfs(source, destination))\n"
   ]
  },
  {
   "cell_type": "code",
   "execution_count": null,
   "metadata": {},
   "outputs": [],
   "source": []
  },
  {
   "cell_type": "code",
   "execution_count": null,
   "metadata": {},
   "outputs": [],
   "source": []
  },
  {
   "cell_type": "code",
   "execution_count": null,
   "metadata": {},
   "outputs": [],
   "source": []
  }
 ],
 "metadata": {
  "kernelspec": {
   "display_name": "Python 3",
   "language": "python",
   "name": "python3"
  },
  "language_info": {
   "codemirror_mode": {
    "name": "ipython",
    "version": 3
   },
   "file_extension": ".py",
   "mimetype": "text/x-python",
   "name": "python",
   "nbconvert_exporter": "python",
   "pygments_lexer": "ipython3",
   "version": "3.7.6"
  }
 },
 "nbformat": 4,
 "nbformat_minor": 4
}
