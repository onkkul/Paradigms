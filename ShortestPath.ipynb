{
 "cells": [
  {
   "cell_type": "code",
   "execution_count": 1,
   "metadata": {},
   "outputs": [
    {
     "data": {
      "text/plain": [
       "'\\nCreated on Sun June 18 10:42:19 2020\\n\\n@author: Onkar Kulkarni\\n\\n'"
      ]
     },
     "execution_count": 1,
     "metadata": {},
     "output_type": "execute_result"
    }
   ],
   "source": [
    "# -*- coding: utf-8 -*-\n",
    "\n",
    "\"\"\"\n",
    "Created on Sun June 18 10:42:19 2020\n",
    "\n",
    "@author: Onkar Kulkarni\n",
    "\n",
    "\"\"\""
   ]
  },
  {
   "cell_type": "code",
   "execution_count": 2,
   "metadata": {},
   "outputs": [],
   "source": [
    "\n",
    "import Graph\n"
   ]
  },
  {
   "cell_type": "code",
   "execution_count": null,
   "metadata": {},
   "outputs": [],
   "source": [
    "class ShortesPath:\n",
    "    \"\"\" When to use what?\n",
    "        1) One source and One Destination-\n",
    "            → Use A* Search Algorithm (For Unweighted as well as Weighted Graphs)\n",
    "\n",
    "        2) One Source, All Destination –\n",
    "            → Use BFS (For Unweighted Graphs)\n",
    "            → Use Dijkstra (For Weighted Graphs without negative weights)\n",
    "            → Use Bellman Ford (For Weighted Graphs with negative weights)\n",
    "\n",
    "        3) Between every pair of nodes-\n",
    "            → Floyd-Warshall\n",
    "            → Johnson’s Algorithm\n",
    "    \"\"\"\n",
    "    def __init__(self, graph, node_count):\n",
    "        self.graph = graph\n",
    "        self.node_count = node_count\n",
    "        return\n",
    "    \n",
    "    def dijkstras(self):\n",
    "        return\n",
    "    \n",
    "    def prims(self):\n",
    "        return\n",
    "    \n",
    "    def krushkals(self):\n",
    "        return\n",
    "    \n",
    "    def Astar(self):\n",
    "        \"\"\" Huristics based search. \n",
    "        Time = O(E)\n",
    "        Space = O(V*V)\n",
    "        \"\"\"\n",
    "        return\n",
    "    \n",
    "    "
   ]
  }
 ],
 "metadata": {
  "kernelspec": {
   "display_name": "Python 3",
   "language": "python",
   "name": "python3"
  },
  "language_info": {
   "codemirror_mode": {
    "name": "ipython",
    "version": 3
   },
   "file_extension": ".py",
   "mimetype": "text/x-python",
   "name": "python",
   "nbconvert_exporter": "python",
   "pygments_lexer": "ipython3",
   "version": "3.7.6"
  }
 },
 "nbformat": 4,
 "nbformat_minor": 4
}
